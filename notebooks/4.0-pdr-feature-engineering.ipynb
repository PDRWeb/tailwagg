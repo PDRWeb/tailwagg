{
 "cells": [
  {
   "cell_type": "markdown",
   "metadata": {},
   "source": [
    "# Feature Engineering\n",
    "\n",
    "This notebook contains feature engineering for the TailWagg pet retail dataset, including:\n",
    "- Rolling average calculations\n",
    "- Trend calculations\n",
    "- Data preprocessing functions\n",
    "- Feature creation utilities\n"
   ]
  },
  {
   "cell_type": "markdown",
   "metadata": {},
   "source": [
    "## Setup\n"
   ]
  },
  {
   "cell_type": "code",
   "execution_count": 1,
   "metadata": {
    "execution": {
     "iopub.execute_input": "2025-10-22T06:11:53.087626Z",
     "iopub.status.busy": "2025-10-22T06:11:53.087061Z",
     "iopub.status.idle": "2025-10-22T06:11:53.099435Z",
     "shell.execute_reply": "2025-10-22T06:11:53.098563Z"
    }
   },
   "outputs": [
    {
     "name": "stdout",
     "output_type": "stream",
     "text": [
      "Project root: /Users/paulrodriguez/Documents/Documents - Paul’s MacBook Pro/Data Analyst School/_DataCamp/github/tailwagg\n",
      "Python path includes: True\n"
     ]
    }
   ],
   "source": [
    "# Add project root to Python path\n",
    "import sys\n",
    "import os\n",
    "\n",
    "# Get the project root directory (parent of notebooks directory)\n",
    "current_dir = os.getcwd()\n",
    "if current_dir.endswith('notebooks'):\n",
    "    project_root = os.path.dirname(current_dir)\n",
    "else:\n",
    "    project_root = current_dir\n",
    "\n",
    "# Add project root to Python path\n",
    "if project_root not in sys.path:\n",
    "    sys.path.insert(0, project_root)\n",
    "\n",
    "print(f\"Project root: {project_root}\")\n",
    "print(f\"Python path includes: {project_root in sys.path}\")\n"
   ]
  },
  {
   "cell_type": "code",
   "execution_count": 2,
   "metadata": {
    "execution": {
     "iopub.execute_input": "2025-10-22T06:11:53.143149Z",
     "iopub.status.busy": "2025-10-22T06:11:53.142825Z",
     "iopub.status.idle": "2025-10-22T06:11:55.638194Z",
     "shell.execute_reply": "2025-10-22T06:11:55.637682Z"
    }
   },
   "outputs": [
    {
     "name": "stdout",
     "output_type": "stream",
     "text": [
      "✅ Connected to PostgreSQL successfully!\n"
     ]
    }
   ],
   "source": [
    "# Import TailWagg utilities\n",
    "from src.utils.database import get_database_engine, test_connection\n",
    "from src.dataset import load_daily_metrics\n",
    "from src.features import calculate_rolling_averages, calculate_trend_labels, calculate_net_profit_margin\n",
    "from src.utils.validation import validate_environment\n",
    "import pandas as pd\n",
    "import numpy as np\n",
    "import matplotlib.pyplot as plt\n",
    "import seaborn as sns\n",
    "\n",
    "# Validate environment and get database engine\n",
    "validate_environment()\n",
    "engine = get_database_engine()\n",
    "\n",
    "# Test connection\n",
    "if test_connection(engine):\n",
    "    print(\"✅ Connected to PostgreSQL successfully!\")\n",
    "else:\n",
    "    print(\"❌ Failed to connect to PostgreSQL\")\n"
   ]
  },
  {
   "cell_type": "markdown",
   "metadata": {},
   "source": [
    "## Rolling Average Calculations\n"
   ]
  },
  {
   "cell_type": "code",
   "execution_count": 3,
   "metadata": {
    "execution": {
     "iopub.execute_input": "2025-10-22T06:11:55.640770Z",
     "iopub.status.busy": "2025-10-22T06:11:55.640434Z",
     "iopub.status.idle": "2025-10-22T06:11:59.118199Z",
     "shell.execute_reply": "2025-10-22T06:11:59.117470Z"
    }
   },
   "outputs": [
    {
     "name": "stdout",
     "output_type": "stream",
     "text": [
      "Loaded 216425 rows of daily metrics data\n",
      "✅ Rolling averages calculated successfully!\n",
      "New columns added: ['rolling_30d_avg_sales', 'rolling_90d_avg_sales']\n"
     ]
    }
   ],
   "source": [
    "# Load sample data to demonstrate feature engineering\n",
    "df = load_daily_metrics()\n",
    "print(f\"Loaded {len(df)} rows of daily metrics data\")\n",
    "\n",
    "# Example: Calculate rolling averages using TailWagg utility\n",
    "df_with_rolling = calculate_rolling_averages(\n",
    "    df, \n",
    "    group_col='product_id', \n",
    "    date_col='order_date', \n",
    "    value_col='total_units_sold', \n",
    "    windows=[30, 90]\n",
    ")\n",
    "\n",
    "print(\"✅ Rolling averages calculated successfully!\")\n",
    "print(f\"New columns added: {[col for col in df_with_rolling.columns if 'rolling' in col]}\")\n"
   ]
  },
  {
   "cell_type": "markdown",
   "metadata": {},
   "source": [
    "## Trend Calculations\n"
   ]
  },
  {
   "cell_type": "code",
   "execution_count": 4,
   "metadata": {
    "execution": {
     "iopub.execute_input": "2025-10-22T06:11:59.121451Z",
     "iopub.status.busy": "2025-10-22T06:11:59.121196Z",
     "iopub.status.idle": "2025-10-22T06:12:01.317194Z",
     "shell.execute_reply": "2025-10-22T06:12:01.316600Z"
    }
   },
   "outputs": [
    {
     "name": "stdout",
     "output_type": "stream",
     "text": [
      "✅ Trend labels calculated successfully!\n",
      "Trend distribution:\n",
      "trend_label\n",
      "Plateau      98554\n",
      "Growing      60641\n",
      "Declining    57230\n",
      "Name: count, dtype: int64\n",
      "✅ Net profit margins calculated successfully!\n",
      "Average net profit margin: 19.53%\n",
      "\n",
      "✅ Feature-engineered data saved to data/interim/featured_data.csv\n"
     ]
    }
   ],
   "source": [
    "# Example: Calculate trend labels using TailWagg utility\n",
    "df_with_trends = calculate_trend_labels(\n",
    "    df_with_rolling,\n",
    "    short_col='rolling_30d_avg_sales',\n",
    "    long_col='rolling_90d_avg_sales'\n",
    ")\n",
    "\n",
    "print(\"✅ Trend labels calculated successfully!\")\n",
    "print(f\"Trend distribution:\")\n",
    "print(df_with_trends['trend_label'].value_counts())\n",
    "\n",
    "# Example: Calculate net profit margin using TailWagg utility\n",
    "df_with_margins = calculate_net_profit_margin(\n",
    "    df_with_trends,\n",
    "    profit_col='gross_profit',\n",
    "    revenue_col='gross_revenue'\n",
    ")\n",
    "\n",
    "print(\"✅ Net profit margins calculated successfully!\")\n",
    "print(f\"Average net profit margin: {df_with_margins['net_profit_margin'].mean():.2%}\")\n",
    "\n",
    "# Save feature-engineered data for use in final insights notebook\n",
    "import os\n",
    "os.makedirs('data/interim', exist_ok=True)\n",
    "df_with_margins.to_csv('data/interim/featured_data.csv', index=False)\n",
    "print(\"\\n✅ Feature-engineered data saved to data/interim/featured_data.csv\")\n"
   ]
  }
 ],
 "metadata": {
  "kernelspec": {
   "display_name": ".venv",
   "language": "python",
   "name": "python3"
  },
  "language_info": {
   "codemirror_mode": {
    "name": "ipython",
    "version": 3
   },
   "file_extension": ".py",
   "mimetype": "text/x-python",
   "name": "python",
   "nbconvert_exporter": "python",
   "pygments_lexer": "ipython3",
   "version": "3.13.0"
  }
 },
 "nbformat": 4,
 "nbformat_minor": 4
}
