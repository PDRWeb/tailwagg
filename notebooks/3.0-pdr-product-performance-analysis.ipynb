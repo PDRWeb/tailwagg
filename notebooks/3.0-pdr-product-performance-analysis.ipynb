{
 "cells": [
  {
   "cell_type": "markdown",
   "metadata": {},
   "source": [
    "# Product Performance Analysis\n",
    "\n",
    "This notebook contains comprehensive product performance analysis for the TailWagg pet retail dataset, including:\n",
    "- Product intelligence dataset creation\n",
    "- Product-specific metrics and analysis\n",
    "- Product performance calculations\n",
    "- Category and brand analysis\n"
   ]
  },
  {
   "cell_type": "markdown",
   "metadata": {},
   "source": [
    "## Setup\n"
   ]
  },
  {
   "cell_type": "code",
   "execution_count": 1,
   "metadata": {
    "execution": {
     "iopub.execute_input": "2025-10-22T06:11:41.805257Z",
     "iopub.status.busy": "2025-10-22T06:11:41.804913Z",
     "iopub.status.idle": "2025-10-22T06:11:41.811989Z",
     "shell.execute_reply": "2025-10-22T06:11:41.811173Z"
    }
   },
   "outputs": [
    {
     "name": "stdout",
     "output_type": "stream",
     "text": [
      "Project root: /Users/paulrodriguez/Documents/Documents - Paul’s MacBook Pro/Data Analyst School/_DataCamp/github/tailwagg\n",
      "Python path includes: True\n"
     ]
    }
   ],
   "source": [
    "# Add project root to Python path\n",
    "import sys\n",
    "import os\n",
    "\n",
    "# Get the project root directory (parent of notebooks directory)\n",
    "current_dir = os.getcwd()\n",
    "if current_dir.endswith('notebooks'):\n",
    "    project_root = os.path.dirname(current_dir)\n",
    "else:\n",
    "    project_root = current_dir\n",
    "\n",
    "# Add project root to Python path\n",
    "if project_root not in sys.path:\n",
    "    sys.path.insert(0, project_root)\n",
    "\n",
    "print(f\"Project root: {project_root}\")\n",
    "print(f\"Python path includes: {project_root in sys.path}\")\n"
   ]
  },
  {
   "cell_type": "code",
   "execution_count": 2,
   "metadata": {
    "execution": {
     "iopub.execute_input": "2025-10-22T06:11:41.851010Z",
     "iopub.status.busy": "2025-10-22T06:11:41.850611Z",
     "iopub.status.idle": "2025-10-22T06:11:46.148852Z",
     "shell.execute_reply": "2025-10-22T06:11:46.148105Z"
    }
   },
   "outputs": [
    {
     "name": "stdout",
     "output_type": "stream",
     "text": [
      "✅ Connected to PostgreSQL successfully!\n"
     ]
    }
   ],
   "source": [
    "# Import TailWagg utilities\n",
    "from src.utils.database import get_database_engine, test_connection\n",
    "from src.dataset import load_daily_metrics, load_product_intelligence\n",
    "from src.utils.validation import validate_environment\n",
    "import pandas as pd\n",
    "import numpy as np\n",
    "import matplotlib.pyplot as plt\n",
    "import seaborn as sns\n",
    "from sklearn.linear_model import LinearRegression\n",
    "\n",
    "# Validate environment and get database engine\n",
    "validate_environment()\n",
    "engine = get_database_engine()\n",
    "\n",
    "# Test connection\n",
    "if test_connection(engine):\n",
    "    print(\"✅ Connected to PostgreSQL successfully!\")\n",
    "else:\n",
    "    print(\"❌ Failed to connect to PostgreSQL\")\n"
   ]
  },
  {
   "cell_type": "markdown",
   "metadata": {},
   "source": [
    "## Product Analysis\n"
   ]
  },
  {
   "cell_type": "code",
   "execution_count": 3,
   "metadata": {
    "execution": {
     "iopub.execute_input": "2025-10-22T06:11:46.152428Z",
     "iopub.status.busy": "2025-10-22T06:11:46.151955Z",
     "iopub.status.idle": "2025-10-22T06:11:49.361770Z",
     "shell.execute_reply": "2025-10-22T06:11:49.361132Z"
    }
   },
   "outputs": [
    {
     "name": "stdout",
     "output_type": "stream",
     "text": [
      "Daily metrics data loaded:\n",
      "Shape: (216425, 9)\n",
      "Date range: 2022-10-17 to 2025-10-16\n",
      "Unique products: 457\n",
      "Unique categories: 5\n",
      "Unique promotions: 27\n"
     ]
    }
   ],
   "source": [
    "# Load daily metrics using TailWagg utility\n",
    "df = load_daily_metrics()\n",
    "\n",
    "print(\"Daily metrics data loaded:\")\n",
    "print(f\"Shape: {df.shape}\")\n",
    "print(f\"Date range: {df['order_date'].min()} to {df['order_date'].max()}\")\n",
    "print(f\"Unique products: {df['product_id'].nunique()}\")\n",
    "print(f\"Unique categories: {df['category_name'].nunique()}\")\n",
    "print(f\"Unique promotions: {df['promo_id'].nunique()}\")\n"
   ]
  },
  {
   "cell_type": "code",
   "execution_count": 4,
   "metadata": {
    "execution": {
     "iopub.execute_input": "2025-10-22T06:11:49.364697Z",
     "iopub.status.busy": "2025-10-22T06:11:49.364437Z",
     "iopub.status.idle": "2025-10-22T06:11:49.414600Z",
     "shell.execute_reply": "2025-10-22T06:11:49.413692Z"
    }
   },
   "outputs": [
    {
     "name": "stdout",
     "output_type": "stream",
     "text": [
      "Product performance by category:\n",
      "               total_units  total_revenue  total_profit  unique_products\n",
      "category_name                                                           \n",
      "Accessories          83043     3872742.30     822094.06               98\n",
      "Grooming             71109     3309911.33     697119.85               84\n",
      "Wellness             69868     2948344.01     623731.36               83\n",
      "Toys                 88772     2280645.33     482158.76              106\n",
      "Treats               72149      899059.72     188971.30               86\n"
     ]
    }
   ],
   "source": [
    "# Product performance by category\n",
    "category_performance = df.groupby('category_name').agg({\n",
    "    'total_units_sold': 'sum',\n",
    "    'gross_revenue': 'sum',\n",
    "    'gross_profit': 'sum',\n",
    "    'product_id': 'nunique'\n",
    "}).round(2)\n",
    "\n",
    "category_performance.columns = ['total_units', 'total_revenue', 'total_profit', 'unique_products']\n",
    "category_performance = category_performance.sort_values('total_profit', ascending=False)\n",
    "\n",
    "print(\"Product performance by category:\")\n",
    "print(category_performance.head(10))\n"
   ]
  },
  {
   "cell_type": "code",
   "execution_count": 5,
   "metadata": {
    "execution": {
     "iopub.execute_input": "2025-10-22T06:11:49.417349Z",
     "iopub.status.busy": "2025-10-22T06:11:49.417146Z",
     "iopub.status.idle": "2025-10-22T06:11:49.445358Z",
     "shell.execute_reply": "2025-10-22T06:11:49.444575Z"
    }
   },
   "outputs": [
    {
     "name": "stdout",
     "output_type": "stream",
     "text": [
      "Top 10 products by total profit:\n",
      "            total_units  total_profit  total_revenue\n",
      "product_id                                          \n",
      "prod_204            893       9683.93       42359.30\n",
      "prod_306            906       9617.54       44479.95\n",
      "prod_130            879       9491.60       42477.46\n",
      "prod_564            856       9468.23       42761.73\n",
      "prod_417            901       9421.83       42728.71\n",
      "prod_349            896       9415.41       41613.67\n",
      "prod_466            905       9402.53       44054.37\n",
      "prod_031            879       9384.56       42747.66\n",
      "prod_233            886       9372.43       42139.86\n",
      "prod_373            908       9355.31       42782.67\n"
     ]
    }
   ],
   "source": [
    "# Top performing products\n",
    "top_products = df.groupby('product_id').agg({\n",
    "    'total_units_sold': 'sum',\n",
    "    'gross_profit': 'sum',\n",
    "    'gross_revenue': 'sum'\n",
    "}).round(2)\n",
    "\n",
    "top_products.columns = ['total_units', 'total_profit', 'total_revenue']\n",
    "top_products = top_products.sort_values('total_profit', ascending=False)\n",
    "\n",
    "print(\"Top 10 products by total profit:\")\n",
    "print(top_products.head(10))\n"
   ]
  }
 ],
 "metadata": {
  "kernelspec": {
   "display_name": ".venv",
   "language": "python",
   "name": "python3"
  },
  "language_info": {
   "codemirror_mode": {
    "name": "ipython",
    "version": 3
   },
   "file_extension": ".py",
   "mimetype": "text/x-python",
   "name": "python",
   "nbconvert_exporter": "python",
   "pygments_lexer": "ipython3",
   "version": "3.13.0"
  }
 },
 "nbformat": 4,
 "nbformat_minor": 4
}
